{
 "cells": [
  {
   "cell_type": "markdown",
   "id": "15e5d5c6-cee5-496a-b186-29c82ddf8e8d",
   "metadata": {},
   "source": [
    "## Single neuron reconstruction axon terminal distribution\n",
    "\n",
    "Objective: Extract axon terminal number and location from set of single neuron reconstruction swc files\n",
    "\n",
    "Provenance: For CP paper, we have analyzed bulk anterograde injection data to find downstream targets of cortical neurons to caudoputamen. However, these data are confounded by the presence of en passant fibers and rely on injections which can be messy. Single neuron reconstructions can give us a better look at axon terminal distribution at the single cell level."
   ]
  },
  {
   "cell_type": "code",
   "execution_count": 1,
   "id": "f2fe2b42-155d-4647-9727-2a0d55f7c881",
   "metadata": {},
   "outputs": [],
   "source": [
    "import csv,os,re,nrrd\n",
    "import numpy as np\n",
    "from anytree import Node\n",
    "from scipy.ndimage.filters import gaussian_filter"
   ]
  },
  {
   "cell_type": "markdown",
   "id": "8af6d33e-946b-4a7f-b4ba-38cbc0560a6f",
   "metadata": {},
   "source": [
    "### Set up data filenames and inputs"
   ]
  },
  {
   "cell_type": "code",
   "execution_count": 2,
   "id": "ad9e469e-cac3-4338-9b50-0644395dfdeb",
   "metadata": {},
   "outputs": [
    {
     "data": {
      "text/plain": [
       "['17099_002_reg.swc',\n",
       " '17099_003_reg.swc',\n",
       " '17099_004_reg.swc',\n",
       " '17099_008_reg.swc',\n",
       " '17099_011_reg.swc']"
      ]
     },
     "execution_count": 2,
     "metadata": {},
     "output_type": "execute_result"
    }
   ],
   "source": [
    "swc_path = '//allen/programs/celltypes/workgroups/mousecelltypes/_UPENN_fMOST/morphology_data/202205111930_upload_registered_reconstructions/'\n",
    "\n",
    "file_list = os.listdir(swc_path)\n",
    "\n",
    "file_list[:5]"
   ]
  },
  {
   "cell_type": "markdown",
   "id": "efc3f00e-33fa-4683-a55d-36cb61273989",
   "metadata": {},
   "source": [
    "### Set up helper functions for generating graph tree objects from swc files\n"
   ]
  },
  {
   "cell_type": "code",
   "execution_count": 3,
   "id": "174ef36b-5603-4ea1-8b27-ec120cfc20dc",
   "metadata": {},
   "outputs": [],
   "source": [
    "def db_to_tree(swc_db):\n",
    "    \n",
    "    '''\n",
    "    Generates graph tree object using AnyTree's Node function. \n",
    "    \n",
    "    Input: \n",
    "        swc_db: swc read in as table\n",
    "    Outputs:\n",
    "        nodes: dict of nodes in graph tree\n",
    "        soma_coords: Array of soma locations (x,y,z)\n",
    "    '''\n",
    "\n",
    "    names=swc_db[:,0].astype(int)\n",
    "    assert swc_db[0,-1]==-1\n",
    "    soma_coords = [swc_db[0,2],swc_db[0,3],swc_db[0,4]]\n",
    "    \n",
    "    neuron = Node(f'p{names[0]}',\n",
    "                  parent=None,\n",
    "                  x=soma_coords[0],\n",
    "                  y=soma_coords[1],\n",
    "                  z=soma_coords[2])\n",
    "    \n",
    "    nodes={}\n",
    "    nodes[neuron.name]=neuron\n",
    "    for count,point in enumerate(names[1:,]):\n",
    "        name = f'p{point}'\n",
    "        if swc_db[count+1,-1]>0:\n",
    "            parent_node=nodes[f'p{swc_db[count+1,-1].astype(int)}']\n",
    "        else:\n",
    "            parent_node=neuron\n",
    "        nodes[name]=Node(\n",
    "            name,\n",
    "            parent=parent_node,\n",
    "            x=swc_db[count+1,2],\n",
    "            y=swc_db[count+1,3],\n",
    "            z=swc_db[count+1,4])\n",
    "        \n",
    "    return nodes,soma_coords\n",
    "\n",
    "def find_leaves(swc_graph,resolution=10):\n",
    "    \n",
    "    '''\n",
    "    Search swc graph for leaf nodes and return (x,y,z) coordinate for each terminal node. \n",
    "    \n",
    "    Input: \n",
    "        swc_graph: anytree graph\n",
    "        resolution: microns per voxel (default: 10)\n",
    "    Outputs:\n",
    "        nodes: dict of nodes in graph tree\n",
    "        soma_coords: Array of soma locations (x,y,z)\n",
    "    '''\n",
    "    \n",
    "    neurites = np.empty((0,3),dtype=int)\n",
    "    for point in swc_graph:\n",
    "        if swc_graph[point].is_leaf==True:\n",
    "            x = int(swc_graph[point].x/resolution)\n",
    "            y = int(swc_graph[point].y/resolution)\n",
    "            z = int(swc_graph[point].z/resolution)\n",
    "            neurites = np.vstack([neurites,np.array([x,y,z])])\n",
    "    return neurites     \n",
    "\n",
    "def flip_swc(swc_db,resolution=10,volume_shape=[1320,800,1140]):\n",
    "    \n",
    "    if int(swc_db[0,4]/resolution)>int(volume_shape[2]/2):\n",
    "        swc_db[:,4] = (resolution*volume_shape[2])-swc_db[:,4]\n",
    "        \n",
    "    return swc_db\n",
    "\n",
    "def neurite_3d(neurite_list,volume):\n",
    "    \n",
    "    for point in neurite_list:\n",
    "        if (point[0]<1320 and point[1]<800 and point[2]<1140):\n",
    "            volume[point[0],point[1],point[2]] = 255\n",
    "            \n",
    "    return volume"
   ]
  },
  {
   "cell_type": "markdown",
   "id": "3d5da13e-c3ab-43a8-9e20-16c5ddfd1b7b",
   "metadata": {},
   "source": [
    "### Set up volume file and plot axon terminals"
   ]
  },
  {
   "cell_type": "code",
   "execution_count": 7,
   "id": "40f33040-d849-424c-958e-70e4fa64d1e6",
   "metadata": {},
   "outputs": [
    {
     "name": "stdout",
     "output_type": "stream",
     "text": [
      "\n",
      "\n",
      "\n",
      "\n",
      "\n",
      "\n"
     ]
    },
    {
     "ename": "KeyboardInterrupt",
     "evalue": "",
     "output_type": "error",
     "traceback": [
      "\u001b[1;31m---------------------------------------------------------------------------\u001b[0m",
      "\u001b[1;31mKeyboardInterrupt\u001b[0m                         Traceback (most recent call last)",
      "Input \u001b[1;32mIn [7]\u001b[0m, in \u001b[0;36m<cell line: 3>\u001b[1;34m()\u001b[0m\n\u001b[0;32m     14\u001b[0m \u001b[38;5;28;01mif\u001b[39;00m \u001b[38;5;28mlen\u001b[39m(neurites)\u001b[38;5;241m>\u001b[39m\u001b[38;5;241m1\u001b[39m:\n\u001b[0;32m     15\u001b[0m     volume \u001b[38;5;241m=\u001b[39m neurite_3d(neurites,volume)\n\u001b[1;32m---> 17\u001b[0m smoothed_volume \u001b[38;5;241m=\u001b[39m \u001b[43mgaussian_filter\u001b[49m\u001b[43m(\u001b[49m\u001b[43mvolume\u001b[49m\u001b[43m,\u001b[49m\u001b[38;5;241;43m3\u001b[39;49m\u001b[43m)\u001b[49m\n\u001b[0;32m     19\u001b[0m nrrd\u001b[38;5;241m.\u001b[39mwrite(\u001b[38;5;124mf\u001b[39m\u001b[38;5;124m'\u001b[39m\u001b[38;5;132;01m{\u001b[39;00mswc_file[:\u001b[38;5;241m-\u001b[39m\u001b[38;5;241m4\u001b[39m]\u001b[38;5;132;01m}\u001b[39;00m\u001b[38;5;124m_terminals.nrrd\u001b[39m\u001b[38;5;124m'\u001b[39m,smoothed_volume)\n",
      "File \u001b[1;32m~\\Anaconda3\\envs\\plotting\\lib\\site-packages\\scipy\\ndimage\\filters.py:342\u001b[0m, in \u001b[0;36mgaussian_filter\u001b[1;34m(input, sigma, order, output, mode, cval, truncate)\u001b[0m\n\u001b[0;32m    340\u001b[0m \u001b[38;5;28;01mif\u001b[39;00m \u001b[38;5;28mlen\u001b[39m(axes) \u001b[38;5;241m>\u001b[39m \u001b[38;5;241m0\u001b[39m:\n\u001b[0;32m    341\u001b[0m     \u001b[38;5;28;01mfor\u001b[39;00m axis, sigma, order, mode \u001b[38;5;129;01min\u001b[39;00m axes:\n\u001b[1;32m--> 342\u001b[0m         \u001b[43mgaussian_filter1d\u001b[49m\u001b[43m(\u001b[49m\u001b[38;5;28;43minput\u001b[39;49m\u001b[43m,\u001b[49m\u001b[43m \u001b[49m\u001b[43msigma\u001b[49m\u001b[43m,\u001b[49m\u001b[43m \u001b[49m\u001b[43maxis\u001b[49m\u001b[43m,\u001b[49m\u001b[43m \u001b[49m\u001b[43morder\u001b[49m\u001b[43m,\u001b[49m\u001b[43m \u001b[49m\u001b[43moutput\u001b[49m\u001b[43m,\u001b[49m\n\u001b[0;32m    343\u001b[0m \u001b[43m                          \u001b[49m\u001b[43mmode\u001b[49m\u001b[43m,\u001b[49m\u001b[43m \u001b[49m\u001b[43mcval\u001b[49m\u001b[43m,\u001b[49m\u001b[43m \u001b[49m\u001b[43mtruncate\u001b[49m\u001b[43m)\u001b[49m\n\u001b[0;32m    344\u001b[0m         \u001b[38;5;28minput\u001b[39m \u001b[38;5;241m=\u001b[39m output\n\u001b[0;32m    345\u001b[0m \u001b[38;5;28;01melse\u001b[39;00m:\n",
      "File \u001b[1;32m~\\Anaconda3\\envs\\plotting\\lib\\site-packages\\scipy\\ndimage\\filters.py:261\u001b[0m, in \u001b[0;36mgaussian_filter1d\u001b[1;34m(input, sigma, axis, order, output, mode, cval, truncate)\u001b[0m\n\u001b[0;32m    259\u001b[0m \u001b[38;5;66;03m# Since we are calling correlate, not convolve, revert the kernel\u001b[39;00m\n\u001b[0;32m    260\u001b[0m weights \u001b[38;5;241m=\u001b[39m _gaussian_kernel1d(sigma, order, lw)[::\u001b[38;5;241m-\u001b[39m\u001b[38;5;241m1\u001b[39m]\n\u001b[1;32m--> 261\u001b[0m \u001b[38;5;28;01mreturn\u001b[39;00m \u001b[43mcorrelate1d\u001b[49m\u001b[43m(\u001b[49m\u001b[38;5;28;43minput\u001b[39;49m\u001b[43m,\u001b[49m\u001b[43m \u001b[49m\u001b[43mweights\u001b[49m\u001b[43m,\u001b[49m\u001b[43m \u001b[49m\u001b[43maxis\u001b[49m\u001b[43m,\u001b[49m\u001b[43m \u001b[49m\u001b[43moutput\u001b[49m\u001b[43m,\u001b[49m\u001b[43m \u001b[49m\u001b[43mmode\u001b[49m\u001b[43m,\u001b[49m\u001b[43m \u001b[49m\u001b[43mcval\u001b[49m\u001b[43m,\u001b[49m\u001b[43m \u001b[49m\u001b[38;5;241;43m0\u001b[39;49m\u001b[43m)\u001b[49m\n",
      "File \u001b[1;32m~\\Anaconda3\\envs\\plotting\\lib\\site-packages\\scipy\\ndimage\\filters.py:133\u001b[0m, in \u001b[0;36mcorrelate1d\u001b[1;34m(input, weights, axis, output, mode, cval, origin)\u001b[0m\n\u001b[0;32m    129\u001b[0m     \u001b[38;5;28;01mraise\u001b[39;00m \u001b[38;5;167;01mValueError\u001b[39;00m(\u001b[38;5;124m'\u001b[39m\u001b[38;5;124mInvalid origin; origin must satisfy \u001b[39m\u001b[38;5;124m'\u001b[39m\n\u001b[0;32m    130\u001b[0m                      \u001b[38;5;124m'\u001b[39m\u001b[38;5;124m-(len(weights) // 2) <= origin <= \u001b[39m\u001b[38;5;124m'\u001b[39m\n\u001b[0;32m    131\u001b[0m                      \u001b[38;5;124m'\u001b[39m\u001b[38;5;124m(len(weights)-1) // 2\u001b[39m\u001b[38;5;124m'\u001b[39m)\n\u001b[0;32m    132\u001b[0m mode \u001b[38;5;241m=\u001b[39m _ni_support\u001b[38;5;241m.\u001b[39m_extend_mode_to_code(mode)\n\u001b[1;32m--> 133\u001b[0m \u001b[43m_nd_image\u001b[49m\u001b[38;5;241;43m.\u001b[39;49m\u001b[43mcorrelate1d\u001b[49m\u001b[43m(\u001b[49m\u001b[38;5;28;43minput\u001b[39;49m\u001b[43m,\u001b[49m\u001b[43m \u001b[49m\u001b[43mweights\u001b[49m\u001b[43m,\u001b[49m\u001b[43m \u001b[49m\u001b[43maxis\u001b[49m\u001b[43m,\u001b[49m\u001b[43m \u001b[49m\u001b[43moutput\u001b[49m\u001b[43m,\u001b[49m\u001b[43m \u001b[49m\u001b[43mmode\u001b[49m\u001b[43m,\u001b[49m\u001b[43m \u001b[49m\u001b[43mcval\u001b[49m\u001b[43m,\u001b[49m\n\u001b[0;32m    134\u001b[0m \u001b[43m                      \u001b[49m\u001b[43morigin\u001b[49m\u001b[43m)\u001b[49m\n\u001b[0;32m    135\u001b[0m \u001b[38;5;28;01mreturn\u001b[39;00m output\n",
      "\u001b[1;31mKeyboardInterrupt\u001b[0m: "
     ]
    }
   ],
   "source": [
    "img_dims = [1320,800,1140]\n",
    "\n",
    "for swc_file in file_list:\n",
    "    volume = np.zeros(img_dims,dtype=np.float32)\n",
    "    \n",
    "    swc_db = np.genfromtxt(swc_path+swc_file)\n",
    "    swc_db = flip_swc(swc_db)\n",
    "    \n",
    "    swc_graph,soma_coords = db_to_tree(swc_db)\n",
    "    neurites = find_leaves(swc_graph,resolution=10)\n",
    "    \n",
    "    if len(neurites)>1:\n",
    "        volume = neurite_3d(neurites,volume)\n",
    "    \n",
    "    smoothed_volume = gaussian_filter(volume,3)\n",
    "    \n",
    "    nrrd.write(f'{swc_file[:-4]}_terminals.nrrd',smoothed_volume)"
   ]
  }
 ],
 "metadata": {
  "kernelspec": {
   "display_name": "Python [conda env:plotting] *",
   "language": "python",
   "name": "conda-env-plotting-py"
  },
  "language_info": {
   "codemirror_mode": {
    "name": "ipython",
    "version": 3
   },
   "file_extension": ".py",
   "mimetype": "text/x-python",
   "name": "python",
   "nbconvert_exporter": "python",
   "pygments_lexer": "ipython3",
   "version": "3.8.13"
  }
 },
 "nbformat": 4,
 "nbformat_minor": 5
}
