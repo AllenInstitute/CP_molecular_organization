{
 "cells": [
  {
   "cell_type": "markdown",
   "id": "a48a6af7-ae91-496d-91f3-34181b5b3b70",
   "metadata": {},
   "source": [
    "# Neuron reconstruction termination plot"
   ]
  },
  {
   "cell_type": "markdown",
   "id": "3e732ee0-d967-49e2-b3cc-80efee28dd05",
   "metadata": {},
   "source": [
    "### Objective: Convert axon termination points from swcs in a directory to volume"
   ]
  },
  {
   "cell_type": "markdown",
   "id": "0afa395c-6040-4d71-be87-51b54a7626fb",
   "metadata": {},
   "source": [
    "#### Components:\n",
    "\n",
    "1. Read swc files and convert to graph tree object using the anytree module\n",
    "2. Instantiate a blank numpy array of same size as volume (in case of full-resolution CCF volume, shape: 1320,800,1140)\n",
    "3. For every point in graph tree, if that point has no children (ie. is a leaf in anytree nomenclature), plot that point in the empty array\n",
    "4. Loop over all swc files in directory and iterate over same volume\n",
    "5. Load in a volume mask (in this example, caudoputamen volume) and mask point cloud volume\n",
    "6. Save masked point cloud volume as an *.nrrd file"
   ]
  },
  {
   "cell_type": "markdown",
   "id": "4a9538ff-c8c2-485f-bc11-74f725ba8495",
   "metadata": {},
   "source": [
    "##### Load required modules"
   ]
  },
  {
   "cell_type": "code",
   "execution_count": 1,
   "id": "e7f45f5a-917c-4461-89c9-dc6742c23800",
   "metadata": {},
   "outputs": [],
   "source": [
    "import os\n",
    "import numpy as np\n",
    "from anytree import Node,RenderTree\n",
    "import SimpleITK as sitk"
   ]
  },
  {
   "cell_type": "markdown",
   "id": "a178eb68-87a4-46b7-bc98-feb6fb600a18",
   "metadata": {},
   "source": [
    "##### Step 1: Read swc files and convert to graph tree object\n",
    "\n",
    "Data organization here is that all swcs from a specific cortical region are in the same directory. In the end, we will have a single volume with points from all files in the directory.\n",
    "\n",
    "Components 1-4 are done within a for loop so we'll need to get directory info and instantiate the blank numpy array before starting the loop"
   ]
  },
  {
   "cell_type": "code",
   "execution_count": 2,
   "id": "933c0afc-e975-4608-b629-f7ce96421df6",
   "metadata": {},
   "outputs": [],
   "source": [
    "swc_path = '../data/ctx_swcs/' #swc directory path\n",
    "swc_filelist = os.listdir(swc_path)"
   ]
  },
  {
   "cell_type": "code",
   "execution_count": 4,
   "id": "c90087f6-88ac-40c1-8c9f-6e34f606e383",
   "metadata": {},
   "outputs": [],
   "source": [
    "brain_vol = np.zeros((1320,800,1140),dtype=int) #Shape here is hard-coded but will be more flexible after refactor\n",
    "resolution = 10 # microns"
   ]
  },
  {
   "cell_type": "markdown",
   "id": "2ad5982d-f6ef-4c2e-bda1-d622324584fe",
   "metadata": {},
   "source": [
    "Loop over all files in directory to generate anytree structure.\n",
    "\n",
    "Structure consists of Node objects that have:\n",
    "1. Name\n",
    "2. Parent (soma has no parent)\n",
    "3. x-coordinate\n",
    "4. y-coordinate\n",
    "5. z-coordinate\n",
    "\n",
    "If we want to save the anytree structure for later use, this can be done using the JSONExporter function in anytree"
   ]
  },
  {
   "cell_type": "code",
   "execution_count": 10,
   "id": "9b3268af-8bdb-4ff8-813d-c1866ba8bc17",
   "metadata": {},
   "outputs": [],
   "source": [
    "for swc_file in swc_filelist:\n",
    "    \n",
    "    # Read in file\n",
    "    swc_db = np.genfromtxt(swc_path+swc_file)\n",
    "    names=swc_db[:,0].astype(int)\n",
    "    assert swc_db[0,-1]==-1 # Make sure that the first row in the last column is [-1] aka root\n",
    "    \n",
    "    # Start a node in the graph tree at the soma\n",
    "    neuron = Node(f'p{names[0]}',\n",
    "                  parent=None,\n",
    "                  x=swc_db[0,2],\n",
    "                  y=swc_db[0,3],\n",
    "                  z=swc_db[0,4])\n",
    "    \n",
    "    # Iterate through all nodes to create a graph tree using dicts\n",
    "    nodes={}\n",
    "    nodes[neuron.name]=neuron\n",
    "    for count,point in enumerate(names[1:,]):\n",
    "        name = f'p{point}'\n",
    "        nodes[name]=Node(\n",
    "            name,\n",
    "            parent=nodes[f'p{swc_db[count+1,-1].astype(int)}'],\n",
    "            x=swc_db[count+1,2],\n",
    "            y=swc_db[count+1,3],\n",
    "            z=swc_db[count+1,4])\n",
    "\n",
    "    # Component 3: If point has no children (ie. is a leaf in anytree nomenclature), plot that point in the empty array\n",
    "    for point in nodes:\n",
    "        if nodes[point].is_leaf==True:\n",
    "            x = int(nodes[point].x/resolution) #Divide by resolution to fit to CCF coordinate space\n",
    "            y = int(nodes[point].y/resolution)\n",
    "            z = int(nodes[point].z/resolution)\n",
    "            brain_vol[x,y,z]=255 "
   ]
  },
  {
   "cell_type": "markdown",
   "id": "cbb70134-f8a4-4a0e-a0b4-736723ec4788",
   "metadata": {},
   "source": [
    "##### Step 2: Convert point cloud volume to SimpleITK image object"
   ]
  },
  {
   "cell_type": "code",
   "execution_count": 6,
   "id": "d5ca5c9d-6246-4635-85b1-51ac67e7c838",
   "metadata": {},
   "outputs": [],
   "source": [
    "brain_vol = sitk.GetImageFromArray(brain_vol)\n",
    "brain_vol = sitk.PermuteAxes(brain_vol,[2,1,0]) # This is a function of differences between how numpy orders axes [z,y,x] and how SimpleITK order axes [x,y,z]. This step flips axes to match the expected axes order in ASL orientation."
   ]
  },
  {
   "cell_type": "markdown",
   "id": "41026316-7817-42fc-b868-ed24f15e2f45",
   "metadata": {},
   "source": [
    "##### Step 3: Load in mask volume and use it to mask point cloud volume"
   ]
  },
  {
   "cell_type": "code",
   "execution_count": 7,
   "id": "bb325e07-4288-474a-8ff9-78faf4dc11da",
   "metadata": {},
   "outputs": [],
   "source": [
    "mask_filepath = '../data/ccf_volumes/cp_mask.nrrd'\n",
    "\n",
    "reader = sitk.ImageFileReader()\n",
    "reader.SetImageIO(\"NrrdImageIO\")\n",
    "reader.SetFileName(mask_filepath)\n",
    "\n",
    "mask = reader.Execute()\n",
    "mask = sitk.Cast(mask,sitk.sitkInt32) # Convert mask file to int32 dtype for multiplication in the next step"
   ]
  },
  {
   "cell_type": "markdown",
   "id": "de903142-728f-4408-8908-9dbfa49ec285",
   "metadata": {},
   "source": [
    "Align point cloud volume and mask and multiply images to generate masked image"
   ]
  },
  {
   "cell_type": "code",
   "execution_count": 8,
   "id": "4b9f9c14-fd4e-4787-a126-bd237e1f19cc",
   "metadata": {},
   "outputs": [],
   "source": [
    "brain_vol.SetDirection(mask.GetDirection()) #SimpleITK is sensitive to the 'direction' of the volume even after permuting axes. This aligns point cloud and mask volumes\n",
    "\n",
    "cp_termini = sitk.Multiply(brain_vol,mask)"
   ]
  },
  {
   "cell_type": "markdown",
   "id": "67b7ddad-fa95-4077-ab3a-351734497aac",
   "metadata": {},
   "source": [
    "##### Step 4: Save volume as an *.nrrd file"
   ]
  },
  {
   "cell_type": "code",
   "execution_count": 9,
   "id": "69d17f2c-4c94-4973-9561-208183563d62",
   "metadata": {},
   "outputs": [],
   "source": [
    "sitk.WriteImage(cp_termini,swc_path+'masked_point_volume.nrrd',True) # Sets compression = True"
   ]
  },
  {
   "cell_type": "code",
   "execution_count": null,
   "id": "59df2077-b199-4099-b96a-663802a724fb",
   "metadata": {},
   "outputs": [],
   "source": []
  }
 ],
 "metadata": {
  "kernelspec": {
   "display_name": "Python [conda env:plotting] *",
   "language": "python",
   "name": "conda-env-plotting-py"
  },
  "language_info": {
   "codemirror_mode": {
    "name": "ipython",
    "version": 3
   },
   "file_extension": ".py",
   "mimetype": "text/x-python",
   "name": "python",
   "nbconvert_exporter": "python",
   "pygments_lexer": "ipython3",
   "version": "3.8.13"
  }
 },
 "nbformat": 4,
 "nbformat_minor": 5
}
